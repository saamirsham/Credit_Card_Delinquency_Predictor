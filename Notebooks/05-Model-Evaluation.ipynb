{
 "cells": [
  {
   "cell_type": "markdown",
   "id": "47a70e25-fcc4-40b6-aa93-ff5c9b12dac2",
   "metadata": {},
   "source": [
    "# Assessing the Model Performance:\n",
    "\n",
    "This notebook retrieves the best model along with its corresponding best set of hyperparameters that were trained in the 04 - Models section. The purpose of this step is to assess the performance of the model using unseen data.\n",
    "\n",
    "By applying the best model to this new data, it is possible to evaluate how well it generalizes to examples it hasn't encountered during training. This assessment will provide insights into the model's ability to make accurate predictions and handle real-world scenarios."
   ]
  },
  {
   "cell_type": "code",
   "execution_count": 2,
   "id": "fa6a90cd-6184-4a85-a35c-176868df8f63",
   "metadata": {},
   "outputs": [],
   "source": [
    "import numpy as np\n",
    "import pandas as pd\n",
    "import matplotlib.pyplot as plt\n",
    "\n",
    "import pickle\n",
    "\n",
    "from sklearn.preprocessing import StandardScaler, OneHotEncoder\n",
    "from sklearn.compose import ColumnTransformer\n",
    "from sklearn.pipeline import Pipeline\n",
    "from sklearn.model_selection import train_test_split, RandomizedSearchCV, GridSearchCV\n",
    "from sklearn.metrics import ConfusionMatrixDisplay, classification_report, RocCurveDisplay\n",
    "from sklearn.ensemble import AdaBoostClassifier, GradientBoostingClassifier\n",
    "from sklearn.tree import DecisionTreeClassifier\n",
    "from sklearn.svm import LinearSVC, SVC\n",
    "from sklearn.linear_model import LogisticRegression\n",
    "from sklearn.ensemble import RandomForestClassifier"
   ]
  },
  {
   "cell_type": "code",
   "execution_count": 5,
   "id": "050a77f8-ca09-40b9-9f86-742aa5f0784b",
   "metadata": {},
   "outputs": [],
   "source": [
    "from functions import credit_approval_data_cleaner, n_mo_delinquency"
   ]
  },
  {
   "cell_type": "code",
   "execution_count": 6,
   "id": "ffcd430f-f682-42fb-a0cc-359c3bd0cdad",
   "metadata": {},
   "outputs": [],
   "source": [
    "# import warnings\n",
    "# warnings.filterwarnings(\"ignore\")"
   ]
  },
  {
   "cell_type": "code",
   "execution_count": 9,
   "id": "6236c6b2-70d4-4dc3-991c-cf585b57ab7f",
   "metadata": {},
   "outputs": [
    {
     "data": {
      "text/html": [
       "<div>\n",
       "<style scoped>\n",
       "    .dataframe tbody tr th:only-of-type {\n",
       "        vertical-align: middle;\n",
       "    }\n",
       "\n",
       "    .dataframe tbody tr th {\n",
       "        vertical-align: top;\n",
       "    }\n",
       "\n",
       "    .dataframe thead th {\n",
       "        text-align: right;\n",
       "    }\n",
       "</style>\n",
       "<table border=\"1\" class=\"dataframe\">\n",
       "  <thead>\n",
       "    <tr style=\"text-align: right;\">\n",
       "      <th></th>\n",
       "      <th>id</th>\n",
       "      <th>is_delinquent</th>\n",
       "      <th>length_of_credit</th>\n",
       "      <th>number_of_delinquent_months</th>\n",
       "      <th>average_delinquency_rate</th>\n",
       "      <th>6mo_delinquency</th>\n",
       "      <th>12mo_delinquency</th>\n",
       "      <th>flag_own_car</th>\n",
       "      <th>flag_own_realty</th>\n",
       "      <th>cnt_children</th>\n",
       "      <th>...</th>\n",
       "      <th>name_family_status</th>\n",
       "      <th>name_housing_type</th>\n",
       "      <th>flag_mobil</th>\n",
       "      <th>flag_work_phone</th>\n",
       "      <th>flag_phone</th>\n",
       "      <th>flag_email</th>\n",
       "      <th>occupation_type</th>\n",
       "      <th>cnt_fam_members</th>\n",
       "      <th>age</th>\n",
       "      <th>years_employed</th>\n",
       "    </tr>\n",
       "  </thead>\n",
       "  <tbody>\n",
       "    <tr>\n",
       "      <th>0</th>\n",
       "      <td>5008834</td>\n",
       "      <td>0</td>\n",
       "      <td>45</td>\n",
       "      <td>5</td>\n",
       "      <td>0.111111</td>\n",
       "      <td>0</td>\n",
       "      <td>0</td>\n",
       "      <td>N</td>\n",
       "      <td>Y</td>\n",
       "      <td>1</td>\n",
       "      <td>...</td>\n",
       "      <td>Single / not married</td>\n",
       "      <td>House / apartment</td>\n",
       "      <td>1</td>\n",
       "      <td>0</td>\n",
       "      <td>0</td>\n",
       "      <td>0</td>\n",
       "      <td>missing</td>\n",
       "      <td>2.0</td>\n",
       "      <td>30</td>\n",
       "      <td>4</td>\n",
       "    </tr>\n",
       "    <tr>\n",
       "      <th>1</th>\n",
       "      <td>5008839</td>\n",
       "      <td>0</td>\n",
       "      <td>14</td>\n",
       "      <td>10</td>\n",
       "      <td>0.714286</td>\n",
       "      <td>1</td>\n",
       "      <td>1</td>\n",
       "      <td>N</td>\n",
       "      <td>Y</td>\n",
       "      <td>1</td>\n",
       "      <td>...</td>\n",
       "      <td>Married</td>\n",
       "      <td>House / apartment</td>\n",
       "      <td>1</td>\n",
       "      <td>0</td>\n",
       "      <td>0</td>\n",
       "      <td>0</td>\n",
       "      <td>Managers</td>\n",
       "      <td>3.0</td>\n",
       "      <td>32</td>\n",
       "      <td>5</td>\n",
       "    </tr>\n",
       "    <tr>\n",
       "      <th>2</th>\n",
       "      <td>5008861</td>\n",
       "      <td>1</td>\n",
       "      <td>4</td>\n",
       "      <td>3</td>\n",
       "      <td>0.750000</td>\n",
       "      <td>1</td>\n",
       "      <td>1</td>\n",
       "      <td>Y</td>\n",
       "      <td>Y</td>\n",
       "      <td>2</td>\n",
       "      <td>...</td>\n",
       "      <td>Married</td>\n",
       "      <td>House / apartment</td>\n",
       "      <td>1</td>\n",
       "      <td>0</td>\n",
       "      <td>0</td>\n",
       "      <td>0</td>\n",
       "      <td>Laborers</td>\n",
       "      <td>4.0</td>\n",
       "      <td>43</td>\n",
       "      <td>8</td>\n",
       "    </tr>\n",
       "    <tr>\n",
       "      <th>3</th>\n",
       "      <td>5008891</td>\n",
       "      <td>0</td>\n",
       "      <td>8</td>\n",
       "      <td>1</td>\n",
       "      <td>0.125000</td>\n",
       "      <td>0</td>\n",
       "      <td>1</td>\n",
       "      <td>N</td>\n",
       "      <td>Y</td>\n",
       "      <td>0</td>\n",
       "      <td>...</td>\n",
       "      <td>Single / not married</td>\n",
       "      <td>Rented apartment</td>\n",
       "      <td>1</td>\n",
       "      <td>0</td>\n",
       "      <td>0</td>\n",
       "      <td>0</td>\n",
       "      <td>Laborers</td>\n",
       "      <td>1.0</td>\n",
       "      <td>42</td>\n",
       "      <td>8</td>\n",
       "    </tr>\n",
       "    <tr>\n",
       "      <th>4</th>\n",
       "      <td>5008893</td>\n",
       "      <td>0</td>\n",
       "      <td>37</td>\n",
       "      <td>0</td>\n",
       "      <td>0.000000</td>\n",
       "      <td>0</td>\n",
       "      <td>0</td>\n",
       "      <td>N</td>\n",
       "      <td>Y</td>\n",
       "      <td>0</td>\n",
       "      <td>...</td>\n",
       "      <td>Single / not married</td>\n",
       "      <td>Rented apartment</td>\n",
       "      <td>1</td>\n",
       "      <td>0</td>\n",
       "      <td>0</td>\n",
       "      <td>0</td>\n",
       "      <td>Laborers</td>\n",
       "      <td>1.0</td>\n",
       "      <td>42</td>\n",
       "      <td>8</td>\n",
       "    </tr>\n",
       "  </tbody>\n",
       "</table>\n",
       "<p>5 rows × 23 columns</p>\n",
       "</div>"
      ],
      "text/plain": [
       "        id  is_delinquent  length_of_credit  number_of_delinquent_months  \\\n",
       "0  5008834              0                45                            5   \n",
       "1  5008839              0                14                           10   \n",
       "2  5008861              1                 4                            3   \n",
       "3  5008891              0                 8                            1   \n",
       "4  5008893              0                37                            0   \n",
       "\n",
       "   average_delinquency_rate  6mo_delinquency  12mo_delinquency flag_own_car  \\\n",
       "0                  0.111111                0                 0            N   \n",
       "1                  0.714286                1                 1            N   \n",
       "2                  0.750000                1                 1            Y   \n",
       "3                  0.125000                0                 1            N   \n",
       "4                  0.000000                0                 0            N   \n",
       "\n",
       "  flag_own_realty  cnt_children  ...    name_family_status  name_housing_type  \\\n",
       "0               Y             1  ...  Single / not married  House / apartment   \n",
       "1               Y             1  ...               Married  House / apartment   \n",
       "2               Y             2  ...               Married  House / apartment   \n",
       "3               Y             0  ...  Single / not married   Rented apartment   \n",
       "4               Y             0  ...  Single / not married   Rented apartment   \n",
       "\n",
       "  flag_mobil flag_work_phone flag_phone  flag_email  occupation_type  \\\n",
       "0          1               0          0           0          missing   \n",
       "1          1               0          0           0         Managers   \n",
       "2          1               0          0           0         Laborers   \n",
       "3          1               0          0           0         Laborers   \n",
       "4          1               0          0           0         Laborers   \n",
       "\n",
       "   cnt_fam_members  age years_employed  \n",
       "0              2.0   30              4  \n",
       "1              3.0   32              5  \n",
       "2              4.0   43              8  \n",
       "3              1.0   42              8  \n",
       "4              1.0   42              8  \n",
       "\n",
       "[5 rows x 23 columns]"
      ]
     },
     "execution_count": 9,
     "metadata": {},
     "output_type": "execute_result"
    }
   ],
   "source": [
    "applications_test = pd.read_csv('../data/applications_test.csv')\n",
    "credits_test = pd.read_csv('../data/credits_test.csv')\n",
    "\n",
    "test = credit_approval_data_cleaner(credits_test, applications_test, [6, 12])\n",
    "test.head()"
   ]
  },
  {
   "cell_type": "code",
   "execution_count": 10,
   "id": "a0195e1f-ef58-4808-9dd6-1cb3607e96b3",
   "metadata": {},
   "outputs": [
    {
     "data": {
      "text/plain": [
       "(5397, 23)"
      ]
     },
     "execution_count": 10,
     "metadata": {},
     "output_type": "execute_result"
    }
   ],
   "source": [
    "test.shape"
   ]
  },
  {
   "cell_type": "markdown",
   "id": "0a303482-bcc2-4671-bd74-b1ee3f33d9ea",
   "metadata": {},
   "source": [
    "### Importing and Setting up the Model"
   ]
  },
  {
   "cell_type": "code",
   "execution_count": 3,
   "id": "0fbe8625",
   "metadata": {},
   "outputs": [],
   "source": [
    "with open(\"random_forest_model.pkl\", \"rb\") as file:\n",
    "    best_model = pickle.load(file)"
   ]
  },
  {
   "cell_type": "code",
   "execution_count": 4,
   "id": "d9d69e03-851b-4d83-a557-66e9ca1d3960",
   "metadata": {},
   "outputs": [
    {
     "ename": "TypeError",
     "evalue": "'GridSearchCV' object is not subscriptable",
     "output_type": "error",
     "traceback": [
      "\u001b[1;31m---------------------------------------------------------------------------\u001b[0m",
      "\u001b[1;31mTypeError\u001b[0m                                 Traceback (most recent call last)",
      "Cell \u001b[1;32mIn[4], line 1\u001b[0m\n\u001b[1;32m----> 1\u001b[0m \u001b[43mbest_model\u001b[49m\u001b[43m[\u001b[49m\u001b[38;5;124;43m'\u001b[39;49m\u001b[38;5;124;43mmodel\u001b[39;49m\u001b[38;5;124;43m'\u001b[39;49m\u001b[43m]\u001b[49m\u001b[38;5;241m.\u001b[39mbest_estimator_\n",
      "\u001b[1;31mTypeError\u001b[0m: 'GridSearchCV' object is not subscriptable"
     ]
    }
   ],
   "source": [
    " best_model['model'].best_estimator_"
   ]
  },
  {
   "cell_type": "markdown",
   "id": "d229fc31-7590-41c3-b8ab-6e94eebb95b0",
   "metadata": {},
   "source": [
    "## Model Evaluation"
   ]
  },
  {
   "cell_type": "markdown",
   "id": "8d5b1282-4cb8-4c58-98f5-9730b433a9f3",
   "metadata": {},
   "source": [
    "#### Importing and cleaning test data"
   ]
  },
  {
   "cell_type": "code",
   "execution_count": 13,
   "id": "59d97692-312b-4835-afc5-0fdf9a8e34fe",
   "metadata": {},
   "outputs": [],
   "source": [
    "X_test = test.drop(columns=[\n",
    "    'id', 'is_delinquent', 'number_of_delinquent_months', 'average_delinquency_rate', \n",
    "    '6mo_delinquency', '12mo_delinquency'])\n",
    "\n",
    "y_test = test['6mo_delinquency']"
   ]
  },
  {
   "cell_type": "code",
   "execution_count": 14,
   "id": "9e21e8ac-9dc0-4f49-8a72-d95f96bc6330",
   "metadata": {},
   "outputs": [
    {
     "data": {
      "text/plain": [
       "0    0.53363\n",
       "1    0.46637\n",
       "Name: 6mo_delinquency, dtype: float64"
      ]
     },
     "execution_count": 14,
     "metadata": {},
     "output_type": "execute_result"
    }
   ],
   "source": [
    "y_test.value_counts(normalize=True)"
   ]
  },
  {
   "cell_type": "code",
   "execution_count": 18,
   "id": "0010285c-45c7-442e-bbe6-2ab879a2994c",
   "metadata": {},
   "outputs": [],
   "source": [
    "# print('Training set Accuracy:', bm.score(X, y))\n",
    "# print('Test set Accuracy:', bm.score(X_test, y_test))\n",
    "# print(f\"Test set AUC:\", roc_auc_score(y_test, bm.predict_proba(X_test)[:, 1]))\n",
    "\n",
    "\n",
    "# print('\\n')\n",
    "# print(classification_report(y_test, bm.predict(X_test)))\n",
    "# print('\\n')"
   ]
  },
  {
   "cell_type": "code",
   "execution_count": 17,
   "id": "57dc09dd-73a9-4190-b9c5-2edb4e5043ea",
   "metadata": {},
   "outputs": [],
   "source": [
    "# fig, ax = plt.subplots(1, 2, figsize=(13, 6))\n",
    "# ConfusionMatrixDisplay.from_estimator(bm, X_test, y_test, cmap='Blues', colorbar=False, ax=ax[0])\n",
    "# RocCurveDisplay.from_estimator(bm, X_test, y_test, ax=ax[1])\n",
    "\n",
    "# ax[0].set_title('Confusion Matrix')\n",
    "# ax[1].set_title('ROC Curve')\n",
    "\n",
    "# fig.suptitle('Model Performance', fontsize=18)\n",
    "\n",
    "# plt.savefig('../images/model_performance.png', dpi=300);"
   ]
  },
  {
   "cell_type": "markdown",
   "id": "7c52a021-7e4c-4561-8a7b-b9b80b68ca92",
   "metadata": {},
   "source": [
    "### Conclusion: \n"
   ]
  }
 ],
 "metadata": {
  "kernelspec": {
   "display_name": "Python 3 (ipykernel)",
   "language": "python",
   "name": "python3"
  },
  "language_info": {
   "codemirror_mode": {
    "name": "ipython",
    "version": 3
   },
   "file_extension": ".py",
   "mimetype": "text/x-python",
   "name": "python",
   "nbconvert_exporter": "python",
   "pygments_lexer": "ipython3",
   "version": "3.10.9"
  }
 },
 "nbformat": 4,
 "nbformat_minor": 5
}
